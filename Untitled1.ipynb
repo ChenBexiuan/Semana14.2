{
  "nbformat": 4,
  "nbformat_minor": 0,
  "metadata": {
    "colab": {
      "provenance": []
    },
    "kernelspec": {
      "name": "python3",
      "display_name": "Python 3"
    },
    "language_info": {
      "name": "python"
    }
  },
  "cells": [
    {
      "cell_type": "code",
      "execution_count": null,
      "metadata": {
        "colab": {
          "base_uri": "https://localhost:8080/"
        },
        "id": "qzn7oYkrFtRF",
        "outputId": "891667f9-cd62-4e01-ccf5-f5b805b1276f"
      },
      "outputs": [
        {
          "output_type": "stream",
          "name": "stdout",
          "text": [
            "Requirement already satisfied: pyspark in /usr/local/lib/python3.10/dist-packages (3.5.3)\n",
            "Requirement already satisfied: py4j==0.10.9.7 in /usr/local/lib/python3.10/dist-packages (from pyspark) (0.10.9.7)\n"
          ]
        }
      ],
      "source": [
        "pip install pyspark"
      ]
    },
    {
      "cell_type": "code",
      "source": [
        "from pyspark.context import SparkContext\n",
        "from pyspark import SparkContext\n",
        "from pyspark.sql import *\n",
        "from pyspark.sql.functions import *\n",
        "from collections import Counter"
      ],
      "metadata": {
        "id": "_3ftAE-8GABk"
      },
      "execution_count": 2,
      "outputs": []
    },
    {
      "cell_type": "code",
      "source": [
        "spark1 = SparkSession.builder.appName(\"Actividad 14\").getOrCreate()"
      ],
      "metadata": {
        "id": "gQyB_gQR4UHH"
      },
      "execution_count": 6,
      "outputs": []
    },
    {
      "cell_type": "code",
      "source": [
        "sc=spark1.sparkContext"
      ],
      "metadata": {
        "id": "-h3inOEu4cEs"
      },
      "execution_count": 7,
      "outputs": []
    },
    {
      "cell_type": "code",
      "source": [
        "# Crear un RDD con datos de empleados\n",
        "rdd = sc.parallelize([\n",
        "    (\"Juan\", 25, 2500, \"Ventas\", 3),\n",
        "    (\"Ana\", 30, 3000, \"Marketing\", 5),\n",
        "    (\"Luis\", 35, 2800, \"Ventas\", 7),\n",
        "    (\"María\", 40, 4000, \"IT\", 10),\n",
        "    (\"Pedro\", 45, 4200, \"IT\", 12),\n",
        "    (\"Laura\", 30, 3200, \"Marketing\", 4),\n",
        "    (\"Andrés\", 29, 2900, \"Ventas\", 6),\n",
        "    (\"Paula\", 38, 3300, \"IT\", 8),\n",
        "    (\"Carlos\", 50, 4500, \"Marketing\", 15),\n",
        "    (\"Ricardo\", 26, 2700, \"Ventas\", 2)\n",
        "])\n",
        "\n",
        "# Convertir el RDD a DataFrame\n",
        "columns = [\"nombre\", \"edad\", \"salario\", \"departamento\", \"experiencia\"]\n",
        "df = spark1.createDataFrame(rdd, columns)\n",
        "\n",
        "df.show()"
      ],
      "metadata": {
        "colab": {
          "base_uri": "https://localhost:8080/"
        },
        "id": "VuQsftoKFMx0",
        "outputId": "5272d15e-9dc3-4fcb-e510-dfa1597cf952"
      },
      "execution_count": 9,
      "outputs": [
        {
          "output_type": "stream",
          "name": "stdout",
          "text": [
            "+-------+----+-------+------------+-----------+\n",
            "| nombre|edad|salario|departamento|experiencia|\n",
            "+-------+----+-------+------------+-----------+\n",
            "|   Juan|  25|   2500|      Ventas|          3|\n",
            "|    Ana|  30|   3000|   Marketing|          5|\n",
            "|   Luis|  35|   2800|      Ventas|          7|\n",
            "|  María|  40|   4000|          IT|         10|\n",
            "|  Pedro|  45|   4200|          IT|         12|\n",
            "|  Laura|  30|   3200|   Marketing|          4|\n",
            "| Andrés|  29|   2900|      Ventas|          6|\n",
            "|  Paula|  38|   3300|          IT|          8|\n",
            "| Carlos|  50|   4500|   Marketing|         15|\n",
            "|Ricardo|  26|   2700|      Ventas|          2|\n",
            "+-------+----+-------+------------+-----------+\n",
            "\n"
          ]
        }
      ]
    },
    {
      "cell_type": "code",
      "source": [
        "\n",
        "# 1. Media de Salario por Departamento usando RDD\n",
        "# Agrupar el RDD por departamento y calcular la media del salario\n",
        "rdd_grouped = rdd.map(lambda x: (x[3], x[2]))  # (departamento, salario)\n",
        "rdd_sum_count = rdd_grouped.combineByKey(\n",
        "    (lambda v: (v, 1)),  # Función para crear un acumulador (suma, conteo)\n",
        "    (lambda acc, v: (acc[0] + v, acc[1] + 1)),  # Función de agregación\n",
        "    (lambda acc1, acc2: (acc1[0] + acc2[0], acc1[1] + acc2[1]))  # Función de combinación\n",
        ")\n"
      ],
      "metadata": {
        "id": "ucgIN-DAHpon"
      },
      "execution_count": 11,
      "outputs": []
    },
    {
      "cell_type": "code",
      "source": [
        "# Agrupar el RDD por departamento y calcular la media del salario\n",
        "rdd_grouped = rdd.map(lambda x: (x[3], x[2]))  # (departamento, salario)\n",
        "rdd_sum_count = rdd_grouped.combineByKey(\n",
        "    (lambda v: (v, 1)),  # Función para crear un acumulador (suma, conteo)\n",
        "    (lambda acc, v: (acc[0] + v, acc[1] + 1)),  # Función de agregación\n",
        "    (lambda acc1, acc2: (acc1[0] + acc2[0], acc1[1] + acc2[1]))  # Función de combinación\n",
        ")\n",
        "\n",
        "# Calcular la media por departamento\n",
        "rdd_mean = rdd_sum_count.mapValues(lambda x: x[0] / x[1])\n",
        "print(\"Media de salario por departamento:\")\n",
        "print(rdd_mean.collect())"
      ],
      "metadata": {
        "colab": {
          "base_uri": "https://localhost:8080/"
        },
        "id": "mOlOncVpIrUF",
        "outputId": "34eaedf7-579d-433a-d169-28ca392fa836"
      },
      "execution_count": 16,
      "outputs": [
        {
          "output_type": "stream",
          "name": "stdout",
          "text": [
            "Media de salario por departamento:\n",
            "[('Ventas', 2725.0), ('Marketing', 3566.6666666666665), ('IT', 3833.3333333333335)]\n"
          ]
        }
      ]
    },
    {
      "source": [
        "# Agrupar por departamento y calcular la mediana usando percentiles\n",
        "rdd_grouped = rdd.map(lambda x: (x[3], x[2]))  # (departamento, salario)\n",
        "rdd_sorted = rdd_grouped.groupByKey().mapValues(sorted)\n",
        "\n",
        "# Calcular la mediana para cada grupo\n",
        "rdd_mediana = rdd_sorted.mapValues(lambda salarios: salarios[len(salarios) // 2] if len(salarios) % 2 != 0 else\n",
        "                                  (salarios[len(salarios) // 2 - 1] + salarios[len(salarios) // 2]) / 2)\n",
        "print(\"Mediana de salario por departamento:\")\n",
        "print(rdd_mediana.collect())"
      ],
      "cell_type": "code",
      "metadata": {
        "colab": {
          "base_uri": "https://localhost:8080/"
        },
        "id": "sNH4MKp0IisZ",
        "outputId": "396c8ed7-8881-47a5-9efe-dc96865c3960"
      },
      "execution_count": 17,
      "outputs": [
        {
          "output_type": "stream",
          "name": "stdout",
          "text": [
            "Mediana de salario por departamento:\n",
            "[('Ventas', 2750.0), ('Marketing', 3200), ('IT', 4000)]\n"
          ]
        }
      ]
    },
    {
      "source": [
        "# Crear un RDD con los rangos de edad y los salarios\n",
        "rdd_age_salary = rdd.map(lambda x: (f\"{x[1]//10*10}-{x[1]//10*10+9}\", x[2]))  # Agrupar por rango de edad\n",
        "\n",
        "# Contar la frecuencia de salarios dentro de cada rango de edad\n",
        "rdd_salary_freq = rdd_age_salary.mapValues(lambda salario: (salario, 1)) \\\n",
        "                                .reduceByKey(lambda a, b: (a[0], a[1] + b[1]))  # (salario, frecuencia)\n",
        "\n",
        "# Ahora, dentro de cada grupo de rango de edad, encontraremos el salario con mayor frecuencia\n",
        "rdd_moda = rdd_salary_freq.mapValues(lambda x: x[0])  # Extraemos el salario más frecuente por rango de edad\n",
        "\n",
        "# Mostrar el resultado\n",
        "print(\"Moda de salario por rango de edad:\")\n",
        "print(rdd_moda.collect())"
      ],
      "cell_type": "code",
      "metadata": {
        "colab": {
          "base_uri": "https://localhost:8080/"
        },
        "id": "6I6jTm9pJIgw",
        "outputId": "dac652eb-b27d-4c85-e724-ce2500b0c077"
      },
      "execution_count": 23,
      "outputs": [
        {
          "output_type": "stream",
          "name": "stdout",
          "text": [
            "Moda de salario por rango de edad:\n",
            "[('30-39', 3000), ('40-49', 4000), ('20-29', 2500), ('50-59', 4500)]\n"
          ]
        }
      ]
    },
    {
      "cell_type": "code",
      "source": [
        "# Calcular correlación entre salario y experiencia\n",
        "correlacion = df.stat.corr(\"experiencia\", \"salario\")\n",
        "\n",
        "print(f\"Correlación entre experiencia y salario: {correlacion}\")"
      ],
      "metadata": {
        "colab": {
          "base_uri": "https://localhost:8080/"
        },
        "id": "o_azydtpJhqK",
        "outputId": "3220d696-0c53-47a6-e347-754fa49eb52f"
      },
      "execution_count": 25,
      "outputs": [
        {
          "output_type": "stream",
          "name": "stdout",
          "text": [
            "Correlación entre experiencia y salario: 0.9269210067516603\n"
          ]
        }
      ]
    }
  ]
}